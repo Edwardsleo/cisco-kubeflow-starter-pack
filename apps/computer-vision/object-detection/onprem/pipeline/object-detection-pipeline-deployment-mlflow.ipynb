{
 "cells": [
  {
   "cell_type": "markdown",
   "metadata": {},
   "source": [
    "## Object Detection Pipeline on UCS using Darknet & YOLO\n",
    "\n",
    "This notebook focuses on implementing object detection as a Kubeflow pipeline on Cisco UCS by using Darknet which is a open-source neural network framework, YOLO (You Only Look Once) which is a real-time object detection system."
   ]
  },
  {
   "cell_type": "markdown",
   "metadata": {},
   "source": [
    "## Clone Cisco Kubeflow starter pack repository"
   ]
  },
  {
   "cell_type": "code",
   "execution_count": null,
   "metadata": {},
   "outputs": [],
   "source": [
    "BRANCH_NAME=\"dev\" #Provide git branch \"master\" or \"dev\"\n",
    "! git clone -b $BRANCH_NAME https://github.com/CiscoAI/cisco-kubeflow-starter-pack.git"
   ]
  },
  {
   "cell_type": "markdown",
   "metadata": {},
   "source": [
    "## Install required packages"
   ]
  },
  {
   "cell_type": "code",
   "execution_count": null,
   "metadata": {},
   "outputs": [],
   "source": [
    "!pip install kfp==1.0.1 pillow==7.2.0 mlflow==1.13.1 --user"
   ]
  },
  {
   "cell_type": "markdown",
   "metadata": {},
   "source": [
    "## Restart kernel"
   ]
  },
  {
   "cell_type": "code",
   "execution_count": null,
   "metadata": {},
   "outputs": [],
   "source": [
    "from IPython.display import display_html\n",
    "display_html(\"<script>Jupyter.notebook.kernel.restart()</script>\",raw=True)"
   ]
  },
  {
   "cell_type": "markdown",
   "metadata": {},
   "source": [
    "## Import libraries"
   ]
  },
  {
   "cell_type": "code",
   "execution_count": 1,
   "metadata": {},
   "outputs": [],
   "source": [
    "import os\n",
    "import json\n",
    "import time\n",
    "import yaml\n",
    "import calendar\n",
    "import requests\n",
    "import logging\n",
    "import numpy as np\n",
    "from PIL import Image, ImageDraw\n",
    "\n",
    "#Kubeflow\n",
    "import kfp\n",
    "from kfp.aws import use_aws_secret\n",
    "import kfp.compiler as compiler\n",
    "\n",
    "#Kubernetes\n",
    "from kubernetes import client\n",
    "\n",
    "#Tensorflow\n",
    "import tensorflow as tf\n",
    "from tensorflow.compat.v1 import ConfigProto\n",
    "from tensorflow.compat.v1 import InteractiveSession\n",
    "\n",
    "#MLFlow\n",
    "import mlflow"
   ]
  },
  {
   "cell_type": "markdown",
   "metadata": {},
   "source": [
    "## Load pipeline components\n",
    "\n",
    "Declare the paths of respective YAML configuration files of each of the pipeline components, in order to load each component into a variable for pipeline execution. "
   ]
  },
  {
   "cell_type": "code",
   "execution_count": 2,
   "metadata": {},
   "outputs": [],
   "source": [
    "path='cisco-kubeflow-starter-pack/apps/computer-vision/object-detection/onprem/pipeline/components/v2/'\n",
    "component_root_dwn= path+'download/'\n",
    "component_root_katib= path+'katib/'\n",
    "component_root_train= path+'train/'\n",
    "component_root_validate= path+'validate/'\n",
    "component_root_cleanup=path+'cleanup/'\n",
    "component_root_convert_ncnn=path+'conversion_ncnn/'\n",
    "\n",
    "download_op = kfp.components.load_component_from_file(os.path.join(component_root_dwn, 'component.yaml'))\n",
    "hptuning_op = kfp.components.load_component_from_file(os.path.join(component_root_katib, 'component.yaml'))\n",
    "train_op = kfp.components.load_component_from_file(os.path.join(component_root_train, 'component.yaml'))\n",
    "validate_op = kfp.components.load_component_from_file(os.path.join(component_root_validate, 'component.yaml'))\n",
    "convert_ncnn_op=kfp.components.load_component_from_file(os.path.join(component_root_convert_ncnn, 'component.yaml'))\n",
    "cleanup_op=kfp.components.load_component_from_file(os.path.join(component_root_cleanup, 'component.yaml'))"
   ]
  },
  {
   "cell_type": "markdown",
   "metadata": {},
   "source": [
    "## Define volume claim & volume mount for storage during pipeline execution\n",
    "\n",
    "Persistent volume claim & volume mount is created for the purpose of storing entities such as dataset, model files, etc, and to share the stored resources between the various components of the pipeline during it's execution. "
   ]
  },
  {
   "cell_type": "code",
   "execution_count": 3,
   "metadata": {},
   "outputs": [],
   "source": [
    "nfs_pvc = client.V1PersistentVolumeClaimVolumeSource(claim_name='nfs')\n",
    "nfs_volume = client.V1Volume(name='nfs', persistent_volume_claim=nfs_pvc)\n",
    "nfs_volume_mount = client.V1VolumeMount(mount_path='/mnt/', name='nfs')"
   ]
  },
  {
   "cell_type": "markdown",
   "metadata": {},
   "source": [
    "## Define pipeline function"
   ]
  },
  {
   "cell_type": "code",
   "execution_count": 4,
   "metadata": {},
   "outputs": [],
   "source": [
    "gpus=2 # Number of GPUs to run training\n",
    "\n",
    "def object_detection_pipeline(\n",
    "    s3_path=\"s3://object-det-test/002\",        # AWS S3 bucket URL. Ex: s3://<bucket-name>/ \n",
    "    user_namespace='anonymous',                # User Namespace \n",
    "    timestamp=\"\",                              # Current timestamp\n",
    "    cfg_data=\"voc.data\",                       # Config file containing file name specifications of train, test and validate datasets\n",
    "    cfg_file=\"yolov3-voc.cfg\",                 # Config file containing hyperparameters declarations Ex: yolov3.cfg / yolov4.cfg\n",
    "    weights=\"yolov3-voc_50000.weights\",        # Weights which are already pre-trained upto 50000 iterations is used. Therefore,  \n",
    "                                               # training happens from 50000 iterations upto a limit of max_batches (say 50200) specified \n",
    "                                               # in cfg_file. \n",
    "    trials=2,                                  # Total number of trials under Katib experiment\n",
    "    gpus_per_trial=1,                          # Maximum GPUS to be used for each trial\n",
    "    classes_file=\"voc.names\",                  # File containing the names of object classes (such as person, bus, car,etc)\n",
    "    trained_weights=\"yolov3-voc_final.weights\" # Trained output weights to proceed with validation\n",
    "):\n",
    "    # Download component\n",
    "    dwn_task = download_op(s3_path=s3_path,\n",
    "                           timestamp=timestamp,\n",
    "                           cfg_data=cfg_data,\n",
    "                           user_namespace=user_namespace\n",
    "                          ).apply(use_aws_secret(secret_name='aws-secret', aws_access_key_id_name='AWS_ACCESS_KEY_ID', aws_secret_access_key_name='AWS_SECRET_ACCESS_KEY'))\n",
    "    dwn_task.add_volume(nfs_volume)\n",
    "    dwn_task.add_volume_mount(nfs_volume_mount) \n",
    "    \n",
    "    # HP tuning (Katib) component\n",
    "    hptuning_task = hptuning_op(cfg_data=cfg_data,             # Config file containing file name specifications of train, test and validate datasets\n",
    "                                cfg_file=cfg_file,             # Config file containing hyperparameters declarations Ex: yolov3.cfg / yolov4.cfg\n",
    "                                weights=weights,               # Pre-trained weights for VOC dataset\n",
    "                                trials=trials,                 # total number of trials under Katib experiment\n",
    "                                timestamp=timestamp,           # Current timestamp to create unique experiment \n",
    "                                                               # Ex: object-detection-1599547688-random-588d7877f5-zvlx5\n",
    "                                gpus_per_trial=gpus_per_trial, # Maximum GPUS to be used for each trial \n",
    "                                user_namespace=user_namespace\n",
    "                                )\n",
    "    hptuning_task.add_volume(nfs_volume)\n",
    "    hptuning_task.add_volume_mount(nfs_volume_mount)\n",
    "    hptuning_task.after(dwn_task)\n",
    "    \n",
    "    # Train component\n",
    "    train_task = train_op(s3_path=s3_path,\n",
    "                          cfg_data=cfg_data,          # Config file containing file name specifications of train, test and validate datasets\n",
    "                          cfg_file=cfg_file,          # Config file containing hyperparameters declarations Ex: yolov3.cfg / yolov4.cfg\n",
    "                          weights=weights,            # Pre-trained weights for VOC dataset\n",
    "                          gpus=gpus,             \n",
    "                          timestamp=timestamp,\n",
    "                          user_namespace=user_namespace\n",
    "                         ).apply(use_aws_secret(secret_name='aws-secret', aws_access_key_id_name='AWS_ACCESS_KEY_ID', aws_secret_access_key_name='AWS_SECRET_ACCESS_KEY'))\n",
    "    train_task.add_volume(nfs_volume)\n",
    "    train_task.add_volume_mount(nfs_volume_mount).set_gpu_limit(gpus)  #Maximum GPUs to be used for training\n",
    "    train_task.after(hptuning_task)\n",
    "    \n",
    "    # Validation component\n",
    "    validate_task = validate_op(s3_path=s3_path,\n",
    "                                cfg_data=cfg_data,          # Config file containing file name specifications of train, test and validate datasets\n",
    "                                cfg_file=cfg_file,          # Config file containing hyperparameters declarations Ex: yolov3.cfg / yolov4.cfg\n",
    "                                timestamp=timestamp,\n",
    "                                trained_weights=trained_weights\n",
    "                                ).apply(use_aws_secret(secret_name='aws-secret', aws_access_key_id_name='AWS_ACCESS_KEY_ID', aws_secret_access_key_name='AWS_SECRET_ACCESS_KEY'))\n",
    "    validate_task.add_volume(nfs_volume)\n",
    "    validate_task.add_volume_mount(nfs_volume_mount)\n",
    "    validate_task.after(train_task)\n",
    "    \n",
    "    \n",
    "    # Darknet to ncnn conversion component\n",
    "    conversion_ncnn_task = convert_ncnn_op(push_to_s3=\"true\",  # Flag to decide whether to upload the trained weights and converted\n",
    "                                           s3_path=s3_path,    # ncnn model pushed to S3 bucket for future inferencing on anyother \n",
    "                                                               # environment or proceeding to cleanup on UCS (Input: true/false)\n",
    "                                           cfg_data=cfg_data,         \n",
    "                                           cfg_file=cfg_file,\n",
    "                                           weight_file=trained_weights,\n",
    "                                           timestamp=timestamp\n",
    "                                             ).apply(use_aws_secret(secret_name='aws-secret', aws_access_key_id_name='AWS_ACCESS_KEY_ID', aws_secret_access_key_name='AWS_SECRET_ACCESS_KEY'))\n",
    "    conversion_ncnn_task.add_volume(nfs_volume)\n",
    "    conversion_ncnn_task.add_volume_mount(nfs_volume_mount)\n",
    "    conversion_ncnn_task.after(validate_task)\n",
    "    \n",
    "    # Clean up component\n",
    "    cleanup_task = cleanup_op(timestamp=timestamp,\n",
    "                             user_namespace=user_namespace).apply(use_aws_secret(secret_name='aws-secret', aws_access_key_id_name='AWS_ACCESS_KEY_ID', aws_secret_access_key_name='AWS_SECRET_ACCESS_KEY'))\n",
    "    cleanup_task.add_volume(nfs_volume)\n",
    "    cleanup_task.add_volume_mount(nfs_volume_mount)\n",
    "    cleanup_task.after(conversion_ncnn_task)  "
   ]
  },
  {
   "cell_type": "markdown",
   "metadata": {},
   "source": [
    "## Compile pipeline function\n",
    "\n",
    "Compile the pipeline function to create a tar ball for the pipeline."
   ]
  },
  {
   "cell_type": "code",
   "execution_count": 5,
   "metadata": {},
   "outputs": [
    {
     "name": "stderr",
     "output_type": "stream",
     "text": [
      "/home/jovyan/.local/lib/python3.6/site-packages/kfp/components/_data_passing.py:168: UserWarning: Missing type name was inferred as \"Integer\" based on the value \"2\".\n",
      "  warnings.warn('Missing type name was inferred as \"{}\" based on the value \"{}\".'.format(type_name, str(value)))\n",
      "/home/jovyan/.local/lib/python3.6/site-packages/kfp/components/_data_passing.py:168: UserWarning: Missing type name was inferred as \"Integer\" based on the value \"1\".\n",
      "  warnings.warn('Missing type name was inferred as \"{}\" based on the value \"{}\".'.format(type_name, str(value)))\n"
     ]
    }
   ],
   "source": [
    "# Compile pipeline\n",
    "try:\n",
    "    compiler.Compiler().compile(object_detection_pipeline, 'object-detection.tar.gz')\n",
    "except RuntimeError as err:\n",
    "    logging.debug(err)\n",
    "    logging.info(\"Argo workflow failed validation check but it can still be used to run experiments.\")"
   ]
  },
  {
   "cell_type": "markdown",
   "metadata": {},
   "source": [
    "## Create pipeline experiment"
   ]
  },
  {
   "cell_type": "code",
   "execution_count": 6,
   "metadata": {},
   "outputs": [
    {
     "data": {
      "text/html": [
       "Experiment link <a href=\"/pipeline/#/experiments/details/77521dfc-ff54-4f49-b526-7d581ea527e2\" target=\"_blank\" >here</a>"
      ],
      "text/plain": [
       "<IPython.core.display.HTML object>"
      ]
     },
     "metadata": {},
     "output_type": "display_data"
    }
   ],
   "source": [
    "kp_client = kfp.Client()\n",
    "EXPERIMENT_NAME = 'Object Detection'\n",
    "experiment = kp_client.create_experiment(name=EXPERIMENT_NAME)"
   ]
  },
  {
   "cell_type": "markdown",
   "metadata": {},
   "source": [
    "## Create timestamp"
   ]
  },
  {
   "cell_type": "code",
   "execution_count": 7,
   "metadata": {},
   "outputs": [
    {
     "data": {
      "text/plain": [
       "'1612276194'"
      ]
     },
     "execution_count": 7,
     "metadata": {},
     "output_type": "execute_result"
    }
   ],
   "source": [
    "timestamp = str(calendar.timegm(time.gmtime()))\n",
    "timestamp"
   ]
  },
  {
   "cell_type": "markdown",
   "metadata": {},
   "source": [
    "## Initialize pipeline parameters & run pipeline"
   ]
  },
  {
   "cell_type": "code",
   "execution_count": 8,
   "metadata": {},
   "outputs": [
    {
     "data": {
      "text/html": [
       "Run link <a href=\"/pipeline/#/runs/details/52dd0d8c-a863-4037-b362-a34fb144674a\" target=\"_blank\" >here</a>"
      ],
      "text/plain": [
       "<IPython.core.display.HTML object>"
      ]
     },
     "metadata": {},
     "output_type": "display_data"
    }
   ],
   "source": [
    "#Pipeline parameters\n",
    "s3_path=\"s3://object-det-test/002\"\n",
    "user_namespace='anonymous'\n",
    "cfg_data=\"voc.data\"              \n",
    "cfg_file=\"yolov3-voc.cfg\"        \n",
    "weights=\"yolov3-voc_50000.weights\"\n",
    "classes_file=\"voc.names\"    \n",
    "trained_weights=\"yolov3-voc_final.weights\" \n",
    "trials=1\n",
    "gpus_per_trial=2\n",
    "\n",
    "\n",
    "run_name = 'object-detection-'+timestamp\n",
    "\n",
    "# Execute pipeline\n",
    "run = kp_client.run_pipeline(experiment.id, run_name,'object-detection.tar.gz', \n",
    "                          params={\"s3_path\": s3_path,\n",
    "                                  \"user_namespace\": user_namespace,\n",
    "                                  \"cfg_data\": cfg_data,\n",
    "                                  \"cfg_file\": cfg_file,\n",
    "                                  \"weights\": weights,\n",
    "                                  \"classes_file\": classes_file,\n",
    "                                  \"trained_weights\": trained_weights,\n",
    "                                  \"timestamp\": timestamp,\n",
    "                                  \"trials\": trials,\n",
    "                                  \"gpus_per_trial\": gpus_per_trial})"
   ]
  },
  {
   "cell_type": "markdown",
   "metadata": {},
   "source": [
    "## Retrieve current pipeline run ID"
   ]
  },
  {
   "cell_type": "code",
   "execution_count": 9,
   "metadata": {},
   "outputs": [
    {
     "data": {
      "text/plain": [
       "'52dd0d8c-a863-4037-b362-a34fb144674a'"
      ]
     },
     "execution_count": 9,
     "metadata": {},
     "output_type": "execute_result"
    }
   ],
   "source": [
    "run_id = str(run.id)\n",
    "run_id"
   ]
  },
  {
   "cell_type": "markdown",
   "metadata": {},
   "source": [
    "## Pipeline parameters/metrics logging using MLFlow\n",
    "\n",
    "MLFlow's tracking component is used to log input parameters as well as target metrics from the executed pipeline run. \n",
    "\n",
    "Please proceed with logging only after pipeline run is done."
   ]
  },
  {
   "cell_type": "markdown",
   "metadata": {},
   "source": [
    "### Set MLFlow tracking server URI\n",
    "\n",
    "Tracking server URI is set to log runs at remote location. "
   ]
  },
  {
   "cell_type": "code",
   "execution_count": 12,
   "metadata": {},
   "outputs": [
    {
     "name": "stdout",
     "output_type": "stream",
     "text": [
      "Current tracking uri: http://mlflow-service.kubeflow.svc.cluster.local:9002\n"
     ]
    }
   ],
   "source": [
    "mlflow.set_tracking_uri(\"http://mlflow-service.kubeflow.svc.cluster.local:9002\")\n",
    "tracking_uri = mlflow.get_tracking_uri()\n",
    "print(\"Current tracking uri: {}\".format(tracking_uri))"
   ]
  },
  {
   "cell_type": "markdown",
   "metadata": {},
   "source": [
    "### Retrieve metrics from pipeline run"
   ]
  },
  {
   "cell_type": "code",
   "execution_count": 14,
   "metadata": {},
   "outputs": [],
   "source": [
    "metrics = kp_client.get_run(run.id).run.metrics\n",
    "for metric in metrics:\n",
    "    metric_element = metric.to_dict()\n",
    "    if metric_element['name'] == \"f1-score\":\n",
    "        f1_score = metric_element['number_value']\n",
    "    elif metric_element['name'] == 'map-score':\n",
    "        map_score = metric_element['number_value']\n",
    "    elif metric_element['name'] == 'precision-score':\n",
    "        precision_score = metric_element['number_value']\n",
    "    else:\n",
    "        recall_score = metric_element['number_value']"
   ]
  },
  {
   "cell_type": "markdown",
   "metadata": {},
   "source": [
    "### Log input parameters and metrics of pipeline run to MLFlow\n",
    "\n",
    "Logged parameters & metrics can be viewed on MLFlow UI at http://INGRESS_IP:MLFLOW_SERVICE_NODEPORT"
   ]
  },
  {
   "cell_type": "code",
   "execution_count": 15,
   "metadata": {},
   "outputs": [],
   "source": [
    "#Create MLFlow experiment using pipeline's run ID\n",
    "experiment_id = mlflow.create_experiment(run_name)\n",
    "experiment = mlflow.get_experiment(experiment_id)\n",
    "\n",
    "#Log params & metrics\n",
    "with mlflow.start_run(experiment_id= experiment.experiment_id, run_name= experiment.name):\n",
    "    mlflow.log_param('Number of training GPUs', gpus)\n",
    "    mlflow.log_param('Timestamp', timestamp)\n",
    "    mlflow.log_param('S3 path', s3_path)\n",
    "    mlflow.log_param('User namespace', user_namespace)\n",
    "    mlflow.log_param('Data config file', cfg_data)\n",
    "    mlflow.log_param('Config file', cfg_file)\n",
    "    mlflow.log_param('Weights', weights)\n",
    "    mlflow.log_param('Trained weights', trained_weights)\n",
    "    mlflow.log_param('Number of Katib trials', trials)\n",
    "    mlflow.log_param('Number of GPUs per trial', gpus_per_trial)\n",
    "    #mlflow.log_params(params)\n",
    "\n",
    "    mlflow.log_metric('Mean Average Precision',map_score)\n",
    "    mlflow.log_metric('Precision score',precision_score)\n",
    "    mlflow.log_metric('Recall score',recall_score)\n",
    "    mlflow.log_metric('F1 score',f1_score)\n",
    "    #mlflow.log_metrics(metrics)"
   ]
  },
  {
   "cell_type": "markdown",
   "metadata": {},
   "source": [
    "## Delete MLFlow experiment"
   ]
  },
  {
   "cell_type": "code",
   "execution_count": 16,
   "metadata": {},
   "outputs": [
    {
     "name": "stdout",
     "output_type": "stream",
     "text": [
      "Name: object-detection-1612276194\n",
      "Artifact Location: file:///tmp/25\n",
      "Lifecycle_stage: deleted\n"
     ]
    }
   ],
   "source": [
    "mlflow.delete_experiment(experiment_id)\n",
    "experiment = mlflow.get_experiment(experiment_id)\n",
    "print(\"Name: {}\".format(experiment.name))\n",
    "print(\"Artifact Location: {}\".format(experiment.artifact_location))\n",
    "print(\"Lifecycle_stage: {}\".format(experiment.lifecycle_stage))"
   ]
  },
  {
   "cell_type": "markdown",
   "metadata": {},
   "source": [
    "## Delete pipeline run"
   ]
  },
  {
   "cell_type": "code",
   "execution_count": 17,
   "metadata": {},
   "outputs": [
    {
     "name": "stdout",
     "output_type": "stream",
     "text": [
      "Pipeline run with run ID '52dd0d8c-a863-4037-b362-a34fb144674a' successfully deleted\n"
     ]
    }
   ],
   "source": [
    "kp_client.runs.delete_run(run_id)\n",
    "print(\"Pipeline run with run ID '%s' successfully deleted\"%run_id)"
   ]
  }
 ],
 "metadata": {
  "kernelspec": {
   "display_name": "Python 3",
   "language": "python",
   "name": "python3"
  },
  "language_info": {
   "codemirror_mode": {
    "name": "ipython",
    "version": 3
   },
   "file_extension": ".py",
   "mimetype": "text/x-python",
   "name": "python",
   "nbconvert_exporter": "python",
   "pygments_lexer": "ipython3",
   "version": "3.6.9"
  }
 },
 "nbformat": 4,
 "nbformat_minor": 4
}
